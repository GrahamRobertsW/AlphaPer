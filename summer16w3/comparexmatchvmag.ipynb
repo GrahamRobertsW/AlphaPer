{
 "metadata": {
  "name": "",
  "signature": "sha256:0f0db7a44254a786f488e42904d533b88e06cd5990215650adde7bd55c14fa1d"
 },
 "nbformat": 3,
 "nbformat_minor": 0,
 "worksheets": [
  {
   "cells": [
    {
     "cell_type": "code",
     "collapsed": false,
     "input": [
      "import pandas as dp\n",
      "import psycopg2 as p2\n",
      "import matplotlib.pyplot as plt\n",
      "from astropy.coordinates import SkyCoord as sc\n",
      "import matchCatalog as MC\n",
      "mc=MC.matchCatalog"
     ],
     "language": "python",
     "metadata": {},
     "outputs": [],
     "prompt_number": 1
    },
    {
     "cell_type": "code",
     "collapsed": false,
     "input": [
      "reload(MC)"
     ],
     "language": "python",
     "metadata": {},
     "outputs": [
      {
       "metadata": {},
       "output_type": "pyout",
       "prompt_number": 53,
       "text": [
        "<module 'matchCatalog' from '/home/groberts/.local/lib/python2.7/site-packages/customModules/matchCatalog.py'>"
       ]
      }
     ],
     "prompt_number": 53
    },
    {
     "cell_type": "code",
     "collapsed": false,
     "input": [
      "mc=MC.matchCatalog"
     ],
     "language": "python",
     "metadata": {},
     "outputs": [],
     "prompt_number": 54
    },
    {
     "cell_type": "code",
     "collapsed": false,
     "input": [
      "con=p2.connect(\"dbname='stars' user='postgres' host='localhost'\")\n",
      "cur=con.cursor()\n"
     ],
     "language": "python",
     "metadata": {},
     "outputs": [],
     "prompt_number": 2
    },
    {
     "cell_type": "code",
     "collapsed": false,
     "input": [
      "cur.fetchall()"
     ],
     "language": "python",
     "metadata": {},
     "outputs": [
      {
       "metadata": {},
       "output_type": "pyout",
       "prompt_number": 116,
       "text": [
        "[]"
       ]
      }
     ],
     "prompt_number": 116
    },
    {
     "cell_type": "code",
     "collapsed": false,
     "input": [
      "import math"
     ],
     "language": "python",
     "metadata": {},
     "outputs": [],
     "prompt_number": 123
    },
    {
     "cell_type": "code",
     "collapsed": false,
     "input": [
      "cur.execute(\"select raj2000, dej2000, vmag, e_vmag, bmag, e_bmag, urat1 from urat;\")\n",
      "urat=dp.DataFrame(cur.fetchall(),columns=['ra','de','vmag', 'e_vmag', 'bmag', 'e_bmag', 'urat1'])\n",
      "cur.execute(\"select _raj2000, _dej2000, vmag, b_v,  u_vmag, he from prosser1992_table4;\")\n",
      "pt4=dp.DataFrame(cur.fetchall(),columns=['ra','de','vmag','b_v', 'u_vmag', 'he'])\n",
      "pt4he=pt4.set_index('he', drop=False)\n",
      "uratsc=sc(urat['ra'],urat['de'],unit='deg')\n",
      "pt4sc=sc(pt4['ra'],pt4['de'],unit='deg')\n",
      "urat1=urat.set_index('urat1',inplace=False,drop=False)\n",
      "#catmatche, dist=mcurat1=urat.set_index('urat1',inplace=False,drop=False)(pt4sc,uratsc,30,0)\n",
      "#mdf=urat.values[matches]\n",
      "#msc=sc([i[0]for i in mdf],[i[1] for i in mdf],unit='deg')\n",
      "#matches, dist = mc(msc,pt4sc,3.0,0)\n",
      "#print len(matches)\n",
      "#print len(msc)\n",
      "uv=[]\n",
      "pv=[]\n",
      "ubv=[]\n",
      "pbv=[]\n",
      "hef=[]\n",
      "uvu=[]\n",
      "ubvu=[]\n",
      "pvu=[]\n",
      "for i in flags:\n",
      "    tu=sc(urat1['ra'][i],urat1['de'][i],unit='deg')\n",
      "    tm,td=mc(tu,pt4sc,3.0,0)\n",
      "    print tm\n",
      "    if tm!=[] and tm:\n",
      "       j=tm[0]\n",
      "       pv=pv+[pt4['vmag'][j]]\n",
      "       uv=uv+[urat1['vmag'][i]]\n",
      "       pbv=pbv+[pt4['b_v'][j]]\n",
      "       ubv=ubv+[urat1['bmag'][i]-urat1['vmag'][i]]\n",
      "       hef=hef+[pt4['he'][j]]\n",
      "       uvu=uvu+[urat1['e_vmag'][i]]\n",
      "       ubvu=ubvu+[math.sqrt(urat1['e_vmag'][i]**2+urat1['e_bmag'][i]**2)]\n",
      "       pvu=pvu+[pt4['u_vmag'][j]]\n",
      "        "
     ],
     "language": "python",
     "metadata": {},
     "outputs": [
      {
       "output_type": "stream",
       "stream": "stdout",
       "text": [
        "[15]\n",
        "[32]\n",
        "None"
       ]
      },
      {
       "output_type": "stream",
       "stream": "stdout",
       "text": [
        "\n",
        "[65]\n",
        "[70]"
       ]
      },
      {
       "output_type": "stream",
       "stream": "stdout",
       "text": [
        "\n",
        "[125]\n",
        "[78]"
       ]
      },
      {
       "output_type": "stream",
       "stream": "stdout",
       "text": [
        "\n",
        "[130]\n"
       ]
      }
     ],
     "prompt_number": 124
    },
    {
     "cell_type": "code",
     "collapsed": false,
     "input": [
      "pt4['he'][78]\n",
      "temp=sc(pt4he['ra'][605],pt4he['de'][605],unit='deg')\n",
      "aper, dist = mc(temp, uratsc, 3.0, 0)\n",
      "matchi=urat['urat1'][aper]\n",
      "matchi"
     ],
     "language": "python",
     "metadata": {},
     "outputs": [
      {
       "metadata": {},
       "output_type": "pyout",
       "prompt_number": 108,
       "text": [
        "217305    700-098103\n",
        "Name: urat1, dtype: object"
       ]
      }
     ],
     "prompt_number": 108
    },
    {
     "cell_type": "code",
     "collapsed": false,
     "input": [
      "plt.scatter(urat1['bmag'][matchi]-urat1['vmag'][matchi],urat1['vmag'][matchi],color='b')\n",
      "plt.scatter(pt4he['b_v'][605],pt4he['vmag'][605],color='r')\n",
      "plt.show()"
     ],
     "language": "python",
     "metadata": {},
     "outputs": [],
     "prompt_number": 95
    },
    {
     "cell_type": "code",
     "collapsed": false,
     "input": [
      "pvu"
     ],
     "language": "python",
     "metadata": {},
     "outputs": [
      {
       "metadata": {},
       "output_type": "pyout",
       "prompt_number": 126,
       "text": [
        "[None, None, None, None, None, None, None]"
       ]
      }
     ],
     "prompt_number": 126
    },
    {
     "cell_type": "code",
     "collapsed": false,
     "input": [
      "help(plt.scatter)"
     ],
     "language": "python",
     "metadata": {},
     "outputs": [
      {
       "output_type": "stream",
       "stream": "stdout",
       "text": [
        "Help on function scatter in module matplotlib.pyplot:\n",
        "\n",
        "scatter(x, y, s=20, c='b', marker='o', cmap=None, norm=None, vmin=None, vmax=None, alpha=None, linewidths=None, verts=None, hold=None, **kwargs)\n",
        "    Make a scatter plot of x vs y, where x and y are sequence like objects\n",
        "    of the same lengths.\n",
        "    \n",
        "    Parameters\n",
        "    ----------\n",
        "    x, y : array_like, shape (n, )\n",
        "        Input data\n",
        "    \n",
        "    s : scalar or array_like, shape (n, ), optional, default: 20\n",
        "        size in points^2.\n",
        "    \n",
        "    c : color or sequence of color, optional, default : 'b'\n",
        "        `c` can be a single color format string, or a sequence of color\n",
        "        specifications of length `N`, or a sequence of `N` numbers to be\n",
        "        mapped to colors using the `cmap` and `norm` specified via kwargs\n",
        "        (see below). Note that `c` should not be a single numeric RGB or\n",
        "        RGBA sequence because that is indistinguishable from an array of\n",
        "        values to be colormapped.  `c` can be a 2-D array in which the\n",
        "        rows are RGB or RGBA, however.\n",
        "    \n",
        "    marker : `~matplotlib.markers.MarkerStyle`, optional, default: 'o'\n",
        "        See `~matplotlib.markers` for more information on the different\n",
        "        styles of markers scatter supports.\n",
        "    \n",
        "    cmap : `~matplotlib.colors.Colormap`, optional, default: None\n",
        "        A `~matplotlib.colors.Colormap` instance or registered name.\n",
        "        `cmap` is only used if `c` is an array of floats. If None,\n",
        "        defaults to rc `image.cmap`.\n",
        "    \n",
        "    norm : `~matplotlib.colors.Normalize`, optional, default: None\n",
        "        A `~matplotlib.colors.Normalize` instance is used to scale\n",
        "        luminance data to 0, 1. `norm` is only used if `c` is an array of\n",
        "        floats. If `None`, use the default :func:`normalize`.\n",
        "    \n",
        "    vmin, vmax : scalar, optional, default: None\n",
        "        `vmin` and `vmax` are used in conjunction with `norm` to normalize\n",
        "        luminance data.  If either are `None`, the min and max of the\n",
        "        color array is used.  Note if you pass a `norm` instance, your\n",
        "        settings for `vmin` and `vmax` will be ignored.\n",
        "    \n",
        "    alpha : scalar, optional, default: None\n",
        "        The alpha blending value, between 0 (transparent) and 1 (opaque)\n",
        "    \n",
        "    linewidths : scalar or array_like, optional, default: None\n",
        "        If None, defaults to (lines.linewidth,).  Note that this is a\n",
        "        tuple, and if you set the linewidths argument you must set it as a\n",
        "        sequence of floats, as required by\n",
        "        `~matplotlib.collections.RegularPolyCollection`.\n",
        "    \n",
        "    Returns\n",
        "    -------\n",
        "    paths : `~matplotlib.collections.PathCollection`\n",
        "    \n",
        "    Other parameters\n",
        "    ----------------\n",
        "    kwargs : `~matplotlib.collections.Collection` properties\n",
        "    \n",
        "    Notes\n",
        "    ------\n",
        "    Any or all of `x`, `y`, `s`, and `c` may be masked arrays, in\n",
        "    which case all masks will be combined and only unmasked points\n",
        "    will be plotted.\n",
        "    \n",
        "    Examples\n",
        "    --------\n",
        "    .. plot:: mpl_examples/shapes_and_collections/scatter_demo.py\n",
        "    \n",
        "    Additional kwargs: hold = [True|False] overrides default hold state\n",
        "\n"
       ]
      }
     ],
     "prompt_number": 148
    },
    {
     "cell_type": "code",
     "collapsed": false,
     "input": [
      "plt.errorbar(ubv,uv,xerr=ubvu,yerr=uvu,color='b',fmt='o')\n",
      "plt.scatter(pbv,pv,color='r')\n",
      "plt.scatter(pt4he['b_v'][605],pt4he['vmag'][605],color='m',marker='.')\n",
      "plt.scatter(pt4he['b_v'],pt4he['vmag'],color='k',marker='.',alpha=0.5)\n",
      "plt.scatter(urat1['bmag'][matchi.values[0]]-urat1['vmag'][matchi.values[0]],urat1['vmag'][matchi],color='c')\n",
      "plt.xlabel('B-V')\n",
      "plt.ylabel('VMAG')\n",
      "plt.title('Comparison of color and magnitude for suspicious matches')\n",
      "plt.ylim([max(pt4he['vmag']),min(pt4he['vmag'])])\n",
      "plt.show()"
     ],
     "language": "python",
     "metadata": {},
     "outputs": [],
     "prompt_number": 173
    },
    {
     "cell_type": "code",
     "collapsed": false,
     "input": [],
     "language": "python",
     "metadata": {},
     "outputs": []
    },
    {
     "cell_type": "code",
     "collapsed": false,
     "input": [
      "len(catmatche)\n",
      "catmatche[0]\n",
      "urat['vmag'][catmatche[0]]\n",
      "tsc=sc(urat['ra'][catmatche[0]],urat['de'][catmatche[0]],unit='deg')\n",
      "tm, td = mc(tsc,pt4sc,3.0,0)\n",
      "print len(tm)\n",
      "print urat['vmag'][catmatche[0]]-pt4['vmag'][tm]"
     ],
     "language": "python",
     "metadata": {},
     "outputs": [
      {
       "output_type": "stream",
       "stream": "stdout",
       "text": [
        "1\n",
        "0    0.057\n",
        "Name: vmag, dtype: float64\n"
       ]
      }
     ],
     "prompt_number": 22
    },
    {
     "cell_type": "code",
     "collapsed": false,
     "input": [
      "matchi.values[0] in urat['urat1'].values"
     ],
     "language": "python",
     "metadata": {},
     "outputs": [
      {
       "metadata": {},
       "output_type": "pyout",
       "prompt_number": 111,
       "text": [
        "True"
       ]
      }
     ],
     "prompt_number": 111
    },
    {
     "cell_type": "code",
     "collapsed": false,
     "input": [
      "print uv\n",
      "print pv"
     ],
     "language": "python",
     "metadata": {},
     "outputs": [
      {
       "output_type": "stream",
       "stream": "stdout",
       "text": [
        "[10.057, 10.146000000000001, 10.678000000000001, 10.67, 11.302, 10.874000000000001, 11.297000000000001, 11.224, 10.429, 8.5359999999999996, 9.6120000000000001, 10.505000000000001, nan, 8.9009999999999998, 7.8970000000000002, 6.5549999999999997, 10.782999999999999, 7.2389999999999999, 9.1140000000000008, 8.8859999999999992, 10.013, 10.763, 10.156000000000001, 10.765000000000001, 10.016999999999999, 8.0449999999999999, 10.784000000000001, 11.202, 10.026999999999999, nan, 12.16, 9.8879999999999999, nan, 10.382, 9.9719999999999995, 11.519, 10.584, 11.201000000000001, 9.6790000000000003, 9.9610000000000003, 11.504, nan, 7.9290000000000003, 10.321, 10.518000000000001, nan, 11.167, 9.218, 7.6769999999999996, 9.8559999999999999, 11.220000000000001, 10.388, 11.728, 11.542999999999999, 10.645, 9.1210000000000004, 9.5540000000000003, 11.114000000000001, 9.1509999999999998, 8.3119999999999994, 11.722, 9.1679999999999993, 10.180999999999999, 11.701000000000001, 11.186, 8.6519999999999992, nan, 9.0679999999999996, 7.9189999999999996, 10.042999999999999, 7.2400000000000002, 10.071999999999999, 10.348000000000001, 11.345000000000001, nan, 9.0950000000000006, 9.8399999999999999, 7.5519999999999996, 9.0129999999999999, 9.2420000000000009, 10.105, 8.8290000000000006, 7.4880000000000004, 8.4659999999999993, 10.048, 10.907, 9.6809999999999992, 7.7389999999999999, 11.23, 7.407, 10.058, nan, 10.035, 10.551, 7.7190000000000003, 10.435, 8.8119999999999994, 6.4359999999999999, nan, 11.061, 8.5679999999999996, 8.7509999999999994, 11.426, 9.5939999999999994, 6.9429999999999996, nan, 11.69, 6.343, 9.8670000000000009, 10.867000000000001, 9.6940000000000008, nan, 10.973000000000001, 10.271000000000001, 10.122, 10.363, 8.9939999999999998, nan, 11.266, nan, 11.808999999999999, 10.632999999999999, 11.769]\n",
        "[10.0, 10.09, 10.640000000000001, 10.619999999999999, 11.15, 10.84, 11.06, 11.09, 10.42, 8.5999999999999996, 9.7100000000000009, 10.470000000000001, 6.8799999999999999, 8.9700000000000006, 7.9400000000000004, 5.9000000000000004, 10.76, 7.1500000000000004, 9.1400000000000006, 8.9299999999999997, 9.9499999999999993, 10.81, 10.109999999999999, 10.41, 9.9299999999999997, 8.0899999999999999, 10.710000000000001, 11.119999999999999, 9.9600000000000009, 9.25, 12.109999999999999, 9.8599999999999994, 7.1900000000000004, 10.33, 9.9299999999999997, 11.449999999999999, 10.51, 11.01, 9.6799999999999997, 9.9000000000000004, 11.550000000000001, 5.1500000000000004, 7.9299999999999997, 10.279999999999999, 10.550000000000001, 5.04, 11.109999999999999, 9.2300000000000004, 7.6399999999999997, 9.8599999999999994, 11.119999999999999, 10.390000000000001, 11.699999999999999, 11.4, 10.57, 9.1600000000000001, 9.5600000000000005, 11.07, 9.1400000000000006, 8.3499999999999996, 11.67, 9.1300000000000008, 10.130000000000001, 11.57, 11.17, 8.6799999999999997, 5.2599999999999998, 8.9399999999999995, 7.8499999999999996, 9.7899999999999991, 6.9900000000000002, 9.9900000000000002, 10.35, 11.4, 1.79, 9.2200000000000006, 9.8599999999999994, 7.6299999999999999, 9.0500000000000007, 9.25, 10.06, 8.9499999999999993, 7.4900000000000002, 8.4800000000000004, 10.02, 10.92, 9.6600000000000001, 7.7199999999999998, 11.18, 7.3600000000000003, 10.029999999999999, 4.6600000000000001, 9.9900000000000002, 10.48, 7.6600000000000001, 10.380000000000001, 8.7899999999999991, 5.8200000000000003, 8.7799999999999994, 11.1, 8.5899999999999999, 8.75, 11.41, 9.6199999999999992, 6.75, 9.1999999999999993, 11.67, 5.46, 9.8000000000000007, 10.84, 9.6099999999999994, 9.4800000000000004, 11.029999999999999, 10.199999999999999, 10.06, 10.32, 8.8800000000000008, 7.4500000000000002, 11.17, 9.7699999999999996, 11.81, 10.640000000000001, 11.74]\n"
       ]
      }
     ],
     "prompt_number": 60
    },
    {
     "cell_type": "code",
     "collapsed": false,
     "input": [
      "[pv[i] for i in range(len(pv))]"
     ],
     "language": "python",
     "metadata": {},
     "outputs": [
      {
       "metadata": {},
       "output_type": "pyout",
       "prompt_number": 44,
       "text": [
        "[0    10.0\n",
        " Name: vmag, dtype: float64, 1    10.09\n",
        " Name: vmag, dtype: float64, 2    10.64\n",
        " Name: vmag, dtype: float64, 3    10.62\n",
        " Name: vmag, dtype: float64, 4    11.15\n",
        " Name: vmag, dtype: float64, 5    10.84\n",
        " Name: vmag, dtype: float64, 6    11.06\n",
        " Name: vmag, dtype: float64, 7    11.09\n",
        " Name: vmag, dtype: float64, 8    10.42\n",
        " Name: vmag, dtype: float64, 9    8.6\n",
        " Name: vmag, dtype: float64, 10    9.71\n",
        " Name: vmag, dtype: float64, 11    10.47\n",
        " Name: vmag, dtype: float64, 12    6.88\n",
        " Name: vmag, dtype: float64, 13    8.97\n",
        " Name: vmag, dtype: float64, 14    7.94\n",
        " Name: vmag, dtype: float64, 15    5.9\n",
        " Name: vmag, dtype: float64, 16    10.76\n",
        " Name: vmag, dtype: float64, 18    7.15\n",
        " Name: vmag, dtype: float64, 19    9.14\n",
        " Name: vmag, dtype: float64, 20    8.93\n",
        " Name: vmag, dtype: float64, 21    9.95\n",
        " Name: vmag, dtype: float64, 22    10.81\n",
        " Name: vmag, dtype: float64, 23    10.11\n",
        " Name: vmag, dtype: float64, 24    10.41\n",
        " Name: vmag, dtype: float64, 25    9.93\n",
        " Name: vmag, dtype: float64, 26    8.09\n",
        " Name: vmag, dtype: float64, 27    10.71\n",
        " Name: vmag, dtype: float64, 28    11.12\n",
        " Name: vmag, dtype: float64, 29    9.96\n",
        " Name: vmag, dtype: float64, 30    9.25\n",
        " Name: vmag, dtype: float64, 31    12.11\n",
        " Name: vmag, dtype: float64, 32    9.86\n",
        " Name: vmag, dtype: float64, 33    7.19\n",
        " Name: vmag, dtype: float64, 34    10.33\n",
        " Name: vmag, dtype: float64, 35    9.93\n",
        " Name: vmag, dtype: float64, 36    11.45\n",
        " Name: vmag, dtype: float64, 37    10.51\n",
        " Name: vmag, dtype: float64, 38    11.01\n",
        " Name: vmag, dtype: float64, 39    9.68\n",
        " Name: vmag, dtype: float64, 40    9.9\n",
        " Name: vmag, dtype: float64, 41    11.55\n",
        " Name: vmag, dtype: float64, 42    5.15\n",
        " Name: vmag, dtype: float64, 43    7.93\n",
        " Name: vmag, dtype: float64, 44    10.28\n",
        " Name: vmag, dtype: float64, 45    10.55\n",
        " Name: vmag, dtype: float64, 46    5.04\n",
        " Name: vmag, dtype: float64, 47    11.11\n",
        " Name: vmag, dtype: float64, 49    9.23\n",
        " Name: vmag, dtype: float64, 50    7.64\n",
        " Name: vmag, dtype: float64, 51    9.86\n",
        " Name: vmag, dtype: float64, 53    11.12\n",
        " Name: vmag, dtype: float64, 54    10.39\n",
        " Name: vmag, dtype: float64, 55    11.7\n",
        " Name: vmag, dtype: float64, 56    11.4\n",
        " Name: vmag, dtype: float64, 57    10.57\n",
        " Name: vmag, dtype: float64, 58    9.16\n",
        " Name: vmag, dtype: float64, 59    9.56\n",
        " Name: vmag, dtype: float64, 60    11.07\n",
        " Name: vmag, dtype: float64, 61    9.14\n",
        " Name: vmag, dtype: float64, 62    8.35\n",
        " Name: vmag, dtype: float64, 63    11.67\n",
        " Name: vmag, dtype: float64, 64    9.13\n",
        " Name: vmag, dtype: float64, 65    10.13\n",
        " Name: vmag, dtype: float64, 66    11.57\n",
        " Name: vmag, dtype: float64, 67    11.17\n",
        " Name: vmag, dtype: float64, 68    8.68\n",
        " Name: vmag, dtype: float64, 69    5.26\n",
        " Name: vmag, dtype: float64, 70    8.94\n",
        " Name: vmag, dtype: float64, 71    7.85\n",
        " Name: vmag, dtype: float64, 72    9.79\n",
        " Name: vmag, dtype: float64, 73    6.99\n",
        " Name: vmag, dtype: float64, 74    9.99\n",
        " Name: vmag, dtype: float64, 75    10.35\n",
        " Name: vmag, dtype: float64, 77    11.4\n",
        " Name: vmag, dtype: float64, 78    1.79\n",
        " Name: vmag, dtype: float64, 81    9.22\n",
        " Name: vmag, dtype: float64, 83    9.86\n",
        " Name: vmag, dtype: float64, 85    7.63\n",
        " Name: vmag, dtype: float64, 87    9.05\n",
        " Name: vmag, dtype: float64, 92    9.25\n",
        " Name: vmag, dtype: float64, 93    10.06\n",
        " Name: vmag, dtype: float64, 97    8.95\n",
        " Name: vmag, dtype: float64, 100    7.49\n",
        " Name: vmag, dtype: float64, 101    8.48\n",
        " Name: vmag, dtype: float64, 104    10.02\n",
        " Name: vmag, dtype: float64, 105    10.92\n",
        " Name: vmag, dtype: float64, 108    9.66\n",
        " Name: vmag, dtype: float64, 110    7.72\n",
        " Name: vmag, dtype: float64, 125    11.18\n",
        " Name: vmag, dtype: float64, 128    7.36\n",
        " Name: vmag, dtype: float64, 129    10.03\n",
        " Name: vmag, dtype: float64, 130    4.66\n",
        " Name: vmag, dtype: float64, 132    9.99\n",
        " Name: vmag, dtype: float64, 133    10.48\n",
        " Name: vmag, dtype: float64, 139    7.66\n",
        " Name: vmag, dtype: float64, 140    10.38\n",
        " Name: vmag, dtype: float64, 141    8.79\n",
        " Name: vmag, dtype: float64, 142    5.82\n",
        " Name: vmag, dtype: float64, 143    8.78\n",
        " Name: vmag, dtype: float64, 144    11.1\n",
        " Name: vmag, dtype: float64, 145    8.59\n",
        " Name: vmag, dtype: float64, 146    8.75\n",
        " Name: vmag, dtype: float64, 148    11.41\n",
        " Name: vmag, dtype: float64, 149    9.62\n",
        " Name: vmag, dtype: float64, 150    6.75\n",
        " Name: vmag, dtype: float64, 151    9.2\n",
        " Name: vmag, dtype: float64, 155    11.67\n",
        " Name: vmag, dtype: float64, 156    5.46\n",
        " Name: vmag, dtype: float64, 157    9.8\n",
        " Name: vmag, dtype: float64, 158    10.84\n",
        " Name: vmag, dtype: float64, 159    9.61\n",
        " Name: vmag, dtype: float64, 161    9.48\n",
        " Name: vmag, dtype: float64, 166    11.03\n",
        " Name: vmag, dtype: float64, 172    10.2\n",
        " Name: vmag, dtype: float64, 174    10.06\n",
        " Name: vmag, dtype: float64, 175    10.32\n",
        " Name: vmag, dtype: float64, 177    8.88\n",
        " Name: vmag, dtype: float64, 178    7.45\n",
        " Name: vmag, dtype: float64, 181    11.17\n",
        " Name: vmag, dtype: float64, 183    9.77\n",
        " Name: vmag, dtype: float64, 184    11.81\n",
        " Name: vmag, dtype: float64, 185    10.64\n",
        " Name: vmag, dtype: float64, 186    11.74\n",
        " Name: vmag, dtype: float64]"
       ]
      }
     ],
     "prompt_number": 44
    },
    {
     "cell_type": "code",
     "collapsed": false,
     "input": [
      "plt.scatter(uv, pv)\n",
      "plt.show()"
     ],
     "language": "python",
     "metadata": {},
     "outputs": [],
     "prompt_number": 61
    },
    {
     "cell_type": "code",
     "collapsed": false,
     "input": [
      "test=[10]\n",
      "test[0]"
     ],
     "language": "python",
     "metadata": {},
     "outputs": [
      {
       "metadata": {},
       "output_type": "pyout",
       "prompt_number": 57,
       "text": [
        "10"
       ]
      }
     ],
     "prompt_number": 57
    },
    {
     "cell_type": "code",
     "collapsed": false,
     "input": [
      "urat1=urat.set_index('urat1',inplace=False,drop=False)"
     ],
     "language": "python",
     "metadata": {},
     "outputs": [],
     "prompt_number": 119
    },
    {
     "cell_type": "code",
     "collapsed": false,
     "input": [
      "flags=['691-083185','689-082967','689-085392','692-089161','704-103276','702-104296','700-098103','698-101101']"
     ],
     "language": "python",
     "metadata": {},
     "outputs": [],
     "prompt_number": 80
    },
    {
     "cell_type": "code",
     "collapsed": false,
     "input": [
      "apkey=matchi.values[0]\n",
      "print urat1['bmag'][apkey]\n",
      "print urat1['vmag'][apkey]"
     ],
     "language": "python",
     "metadata": {},
     "outputs": [
      {
       "output_type": "stream",
       "stream": "stdout",
       "text": [
        "nan\n",
        "nan\n"
       ]
      }
     ],
     "prompt_number": 114
    },
    {
     "cell_type": "code",
     "collapsed": false,
     "input": [
      "matches, dist = mc(uratsc,pt4sc,3.0,0)"
     ],
     "language": "python",
     "metadata": {},
     "outputs": [],
     "prompt_number": 175
    },
    {
     "cell_type": "code",
     "collapsed": false,
     "input": [
      "helist=pt4['he'].values[matches]\n",
      "matchpairs=[]\n",
      "for m in helist:\n",
      "    tmp=sc(pt4he['ra'][m],pt4he['de'][m],unit='deg')\n",
      "    tm, td = mc(tmp, uratsc, 3.0, 0)\n",
      "    if tm and len(tm)>0:\n",
      "       print tm\n",
      "       matchpairs=matchpairs+[(urat['urat1'].values[tm[0]],m)]"
     ],
     "language": "python",
     "metadata": {},
     "outputs": [
      {
       "output_type": "stream",
       "stream": "stdout",
       "text": [
        "[123952]\n",
        "[124107]"
       ]
      },
      {
       "output_type": "stream",
       "stream": "stdout",
       "text": [
        "\n",
        "[125345]"
       ]
      },
      {
       "output_type": "stream",
       "stream": "stdout",
       "text": [
        "\n",
        "[138404]"
       ]
      },
      {
       "output_type": "stream",
       "stream": "stdout",
       "text": [
        "\n",
        "[155973]"
       ]
      },
      {
       "output_type": "stream",
       "stream": "stdout",
       "text": [
        "\n",
        "[193364]"
       ]
      },
      {
       "output_type": "stream",
       "stream": "stdout",
       "text": [
        "\n",
        "[201028]"
       ]
      },
      {
       "output_type": "stream",
       "stream": "stdout",
       "text": [
        "\n",
        "[201267]"
       ]
      },
      {
       "output_type": "stream",
       "stream": "stdout",
       "text": [
        "\n",
        "[201598]"
       ]
      },
      {
       "output_type": "stream",
       "stream": "stdout",
       "text": [
        "\n",
        "[202289]"
       ]
      },
      {
       "output_type": "stream",
       "stream": "stdout",
       "text": [
        "\n",
        "[202561]"
       ]
      },
      {
       "output_type": "stream",
       "stream": "stdout",
       "text": [
        "\n",
        "[203454]"
       ]
      },
      {
       "output_type": "stream",
       "stream": "stdout",
       "text": [
        "\n",
        "[206399]"
       ]
      },
      {
       "output_type": "stream",
       "stream": "stdout",
       "text": [
        "\n",
        "[206529]"
       ]
      },
      {
       "output_type": "stream",
       "stream": "stdout",
       "text": [
        "\n",
        "[212281]"
       ]
      },
      {
       "output_type": "stream",
       "stream": "stdout",
       "text": [
        "\n",
        "[212657]"
       ]
      },
      {
       "output_type": "stream",
       "stream": "stdout",
       "text": [
        "\n",
        "[213474]"
       ]
      },
      {
       "output_type": "stream",
       "stream": "stdout",
       "text": [
        "\n",
        "[213866]"
       ]
      },
      {
       "output_type": "stream",
       "stream": "stdout",
       "text": [
        "\n",
        "[216467]"
       ]
      },
      {
       "output_type": "stream",
       "stream": "stdout",
       "text": [
        "\n",
        "[216749]"
       ]
      },
      {
       "output_type": "stream",
       "stream": "stdout",
       "text": [
        "\n",
        "[217305]"
       ]
      },
      {
       "output_type": "stream",
       "stream": "stdout",
       "text": [
        "\n",
        "[217358]"
       ]
      },
      {
       "output_type": "stream",
       "stream": "stdout",
       "text": [
        "\n",
        "[219500]"
       ]
      },
      {
       "output_type": "stream",
       "stream": "stdout",
       "text": [
        "\n",
        "[222705]"
       ]
      },
      {
       "output_type": "stream",
       "stream": "stdout",
       "text": [
        "\n",
        "[223057]"
       ]
      },
      {
       "output_type": "stream",
       "stream": "stdout",
       "text": [
        "\n",
        "[223538]"
       ]
      },
      {
       "output_type": "stream",
       "stream": "stdout",
       "text": [
        "\n",
        "[223832]"
       ]
      },
      {
       "output_type": "stream",
       "stream": "stdout",
       "text": [
        "\n",
        "[225753]"
       ]
      },
      {
       "output_type": "stream",
       "stream": "stdout",
       "text": [
        "\n",
        "[226612]"
       ]
      },
      {
       "output_type": "stream",
       "stream": "stdout",
       "text": [
        "\n",
        "[231283]"
       ]
      },
      {
       "output_type": "stream",
       "stream": "stdout",
       "text": [
        "\n",
        "[231602]"
       ]
      },
      {
       "output_type": "stream",
       "stream": "stdout",
       "text": [
        "\n",
        "[233293]"
       ]
      },
      {
       "output_type": "stream",
       "stream": "stdout",
       "text": [
        "\n",
        "[234129]"
       ]
      },
      {
       "output_type": "stream",
       "stream": "stdout",
       "text": [
        "\n",
        "[234340]"
       ]
      },
      {
       "output_type": "stream",
       "stream": "stdout",
       "text": [
        "\n",
        "[236509]"
       ]
      },
      {
       "output_type": "stream",
       "stream": "stdout",
       "text": [
        "\n",
        "[238865]"
       ]
      },
      {
       "output_type": "stream",
       "stream": "stdout",
       "text": [
        "\n",
        "[242540]"
       ]
      },
      {
       "output_type": "stream",
       "stream": "stdout",
       "text": [
        "\n",
        "[244610]"
       ]
      },
      {
       "output_type": "stream",
       "stream": "stdout",
       "text": [
        "\n",
        "[246462]"
       ]
      },
      {
       "output_type": "stream",
       "stream": "stdout",
       "text": [
        "\n",
        "[246565]"
       ]
      },
      {
       "output_type": "stream",
       "stream": "stdout",
       "text": [
        "\n",
        "[251373]"
       ]
      },
      {
       "output_type": "stream",
       "stream": "stdout",
       "text": [
        "\n",
        "[251830]"
       ]
      },
      {
       "output_type": "stream",
       "stream": "stdout",
       "text": [
        "\n",
        "[256075]"
       ]
      },
      {
       "output_type": "stream",
       "stream": "stdout",
       "text": [
        "\n",
        "[282662]"
       ]
      },
      {
       "output_type": "stream",
       "stream": "stdout",
       "text": [
        "\n",
        "[287378]"
       ]
      },
      {
       "output_type": "stream",
       "stream": "stdout",
       "text": [
        "\n",
        "[292039]"
       ]
      },
      {
       "output_type": "stream",
       "stream": "stdout",
       "text": [
        "\n",
        "[293841]"
       ]
      },
      {
       "output_type": "stream",
       "stream": "stdout",
       "text": [
        "\n",
        "[295619]"
       ]
      },
      {
       "output_type": "stream",
       "stream": "stdout",
       "text": [
        "\n",
        "[295791]"
       ]
      },
      {
       "output_type": "stream",
       "stream": "stdout",
       "text": [
        "\n",
        "[296596]"
       ]
      },
      {
       "output_type": "stream",
       "stream": "stdout",
       "text": [
        "\n",
        "[300123]"
       ]
      },
      {
       "output_type": "stream",
       "stream": "stdout",
       "text": [
        "\n",
        "[300819]"
       ]
      },
      {
       "output_type": "stream",
       "stream": "stdout",
       "text": [
        "\n",
        "[300976]"
       ]
      },
      {
       "output_type": "stream",
       "stream": "stdout",
       "text": [
        "\n",
        "[305254]"
       ]
      },
      {
       "output_type": "stream",
       "stream": "stdout",
       "text": [
        "\n",
        "[305680]"
       ]
      },
      {
       "output_type": "stream",
       "stream": "stdout",
       "text": [
        "\n",
        "[305985]"
       ]
      },
      {
       "output_type": "stream",
       "stream": "stdout",
       "text": [
        "\n",
        "[305997]"
       ]
      },
      {
       "output_type": "stream",
       "stream": "stdout",
       "text": [
        "\n",
        "[306536]"
       ]
      },
      {
       "output_type": "stream",
       "stream": "stdout",
       "text": [
        "\n",
        "[308074]"
       ]
      },
      {
       "output_type": "stream",
       "stream": "stdout",
       "text": [
        "\n",
        "[308115]"
       ]
      },
      {
       "output_type": "stream",
       "stream": "stdout",
       "text": [
        "\n",
        "[308988]"
       ]
      },
      {
       "output_type": "stream",
       "stream": "stdout",
       "text": [
        "\n",
        "[309640]"
       ]
      },
      {
       "output_type": "stream",
       "stream": "stdout",
       "text": [
        "\n",
        "[313159]"
       ]
      },
      {
       "output_type": "stream",
       "stream": "stdout",
       "text": [
        "\n",
        "[314011]"
       ]
      },
      {
       "output_type": "stream",
       "stream": "stdout",
       "text": [
        "\n",
        "[314332]"
       ]
      },
      {
       "output_type": "stream",
       "stream": "stdout",
       "text": [
        "\n",
        "[315009]"
       ]
      },
      {
       "output_type": "stream",
       "stream": "stdout",
       "text": [
        "\n",
        "[315955]"
       ]
      },
      {
       "output_type": "stream",
       "stream": "stdout",
       "text": [
        "\n",
        "[318600]"
       ]
      },
      {
       "output_type": "stream",
       "stream": "stdout",
       "text": [
        "\n",
        "[318876]"
       ]
      },
      {
       "output_type": "stream",
       "stream": "stdout",
       "text": [
        "\n",
        "[320043]"
       ]
      },
      {
       "output_type": "stream",
       "stream": "stdout",
       "text": [
        "\n",
        "[322153]"
       ]
      },
      {
       "output_type": "stream",
       "stream": "stdout",
       "text": [
        "\n",
        "[322190]"
       ]
      },
      {
       "output_type": "stream",
       "stream": "stdout",
       "text": [
        "\n",
        "[324706]"
       ]
      },
      {
       "output_type": "stream",
       "stream": "stdout",
       "text": [
        "\n",
        "[325009]"
       ]
      },
      {
       "output_type": "stream",
       "stream": "stdout",
       "text": [
        "\n",
        "[325189]"
       ]
      },
      {
       "output_type": "stream",
       "stream": "stdout",
       "text": [
        "\n",
        "[325489]"
       ]
      },
      {
       "output_type": "stream",
       "stream": "stdout",
       "text": [
        "\n",
        "[326139]"
       ]
      },
      {
       "output_type": "stream",
       "stream": "stdout",
       "text": [
        "\n",
        "[326338]"
       ]
      },
      {
       "output_type": "stream",
       "stream": "stdout",
       "text": [
        "\n",
        "[326351]"
       ]
      },
      {
       "output_type": "stream",
       "stream": "stdout",
       "text": [
        "\n",
        "[327298]"
       ]
      },
      {
       "output_type": "stream",
       "stream": "stdout",
       "text": [
        "\n",
        "[327793]"
       ]
      },
      {
       "output_type": "stream",
       "stream": "stdout",
       "text": [
        "\n",
        "[329352]"
       ]
      },
      {
       "output_type": "stream",
       "stream": "stdout",
       "text": [
        "\n",
        "[329995]"
       ]
      },
      {
       "output_type": "stream",
       "stream": "stdout",
       "text": [
        "\n",
        "[330638]"
       ]
      },
      {
       "output_type": "stream",
       "stream": "stdout",
       "text": [
        "\n",
        "[341359]"
       ]
      },
      {
       "output_type": "stream",
       "stream": "stdout",
       "text": [
        "\n",
        "[558421]"
       ]
      },
      {
       "output_type": "stream",
       "stream": "stdout",
       "text": [
        "\n",
        "[599440]"
       ]
      },
      {
       "output_type": "stream",
       "stream": "stdout",
       "text": [
        "\n",
        "[671358]"
       ]
      },
      {
       "output_type": "stream",
       "stream": "stdout",
       "text": [
        "\n",
        "[718856]"
       ]
      },
      {
       "output_type": "stream",
       "stream": "stdout",
       "text": [
        "\n",
        "[719953]"
       ]
      },
      {
       "output_type": "stream",
       "stream": "stdout",
       "text": [
        "\n",
        "[725525]"
       ]
      },
      {
       "output_type": "stream",
       "stream": "stdout",
       "text": [
        "\n",
        "[728578]"
       ]
      },
      {
       "output_type": "stream",
       "stream": "stdout",
       "text": [
        "\n",
        "[736139]"
       ]
      },
      {
       "output_type": "stream",
       "stream": "stdout",
       "text": [
        "\n",
        "[736165]"
       ]
      },
      {
       "output_type": "stream",
       "stream": "stdout",
       "text": [
        "\n",
        "[737114]"
       ]
      },
      {
       "output_type": "stream",
       "stream": "stdout",
       "text": [
        "\n",
        "[741382]"
       ]
      },
      {
       "output_type": "stream",
       "stream": "stdout",
       "text": [
        "\n",
        "[760722]"
       ]
      },
      {
       "output_type": "stream",
       "stream": "stdout",
       "text": [
        "\n",
        "[776114]"
       ]
      },
      {
       "output_type": "stream",
       "stream": "stdout",
       "text": [
        "\n",
        "[777263]"
       ]
      },
      {
       "output_type": "stream",
       "stream": "stdout",
       "text": [
        "\n",
        "[778532]"
       ]
      },
      {
       "output_type": "stream",
       "stream": "stdout",
       "text": [
        "\n",
        "[779158]"
       ]
      },
      {
       "output_type": "stream",
       "stream": "stdout",
       "text": [
        "\n",
        "[857099]"
       ]
      },
      {
       "output_type": "stream",
       "stream": "stdout",
       "text": [
        "\n",
        "[860191]"
       ]
      },
      {
       "output_type": "stream",
       "stream": "stdout",
       "text": [
        "\n",
        "[862610]"
       ]
      },
      {
       "output_type": "stream",
       "stream": "stdout",
       "text": [
        "\n",
        "[863117]"
       ]
      },
      {
       "output_type": "stream",
       "stream": "stdout",
       "text": [
        "\n",
        "[864038]"
       ]
      },
      {
       "output_type": "stream",
       "stream": "stdout",
       "text": [
        "\n",
        "[867051]"
       ]
      },
      {
       "output_type": "stream",
       "stream": "stdout",
       "text": [
        "\n",
        "[868149]"
       ]
      },
      {
       "output_type": "stream",
       "stream": "stdout",
       "text": [
        "\n",
        "[869988]"
       ]
      },
      {
       "output_type": "stream",
       "stream": "stdout",
       "text": [
        "\n",
        "[872693]"
       ]
      },
      {
       "output_type": "stream",
       "stream": "stdout",
       "text": [
        "\n",
        "[872810]"
       ]
      },
      {
       "output_type": "stream",
       "stream": "stdout",
       "text": [
        "\n",
        "[873448]"
       ]
      },
      {
       "output_type": "stream",
       "stream": "stdout",
       "text": [
        "\n",
        "[874103]"
       ]
      },
      {
       "output_type": "stream",
       "stream": "stdout",
       "text": [
        "\n",
        "[876494]"
       ]
      },
      {
       "output_type": "stream",
       "stream": "stdout",
       "text": [
        "\n",
        "[880139]"
       ]
      },
      {
       "output_type": "stream",
       "stream": "stdout",
       "text": [
        "\n",
        "[883917]"
       ]
      },
      {
       "output_type": "stream",
       "stream": "stdout",
       "text": [
        "\n",
        "[884156]"
       ]
      },
      {
       "output_type": "stream",
       "stream": "stdout",
       "text": [
        "\n",
        "[894306]"
       ]
      },
      {
       "output_type": "stream",
       "stream": "stdout",
       "text": [
        "\n",
        "[894780]"
       ]
      },
      {
       "output_type": "stream",
       "stream": "stdout",
       "text": [
        "\n",
        "[914262]"
       ]
      },
      {
       "output_type": "stream",
       "stream": "stdout",
       "text": [
        "\n",
        "[914619]"
       ]
      },
      {
       "output_type": "stream",
       "stream": "stdout",
       "text": [
        "\n",
        "[916069]"
       ]
      },
      {
       "output_type": "stream",
       "stream": "stdout",
       "text": [
        "\n",
        "[919222]"
       ]
      },
      {
       "output_type": "stream",
       "stream": "stdout",
       "text": [
        "\n",
        "[998680]"
       ]
      },
      {
       "output_type": "stream",
       "stream": "stdout",
       "text": [
        "\n",
        "[998718]"
       ]
      },
      {
       "output_type": "stream",
       "stream": "stdout",
       "text": [
        "\n",
        "[999072]"
       ]
      },
      {
       "output_type": "stream",
       "stream": "stdout",
       "text": [
        "\n",
        "[1000224]"
       ]
      },
      {
       "output_type": "stream",
       "stream": "stdout",
       "text": [
        "\n",
        "[1003442]"
       ]
      },
      {
       "output_type": "stream",
       "stream": "stdout",
       "text": [
        "\n",
        "[1003672]"
       ]
      },
      {
       "output_type": "stream",
       "stream": "stdout",
       "text": [
        "\n",
        "[1004908]"
       ]
      },
      {
       "output_type": "stream",
       "stream": "stdout",
       "text": [
        "\n",
        "[1005159]"
       ]
      },
      {
       "output_type": "stream",
       "stream": "stdout",
       "text": [
        "\n",
        "[1005209]"
       ]
      },
      {
       "output_type": "stream",
       "stream": "stdout",
       "text": [
        "\n",
        "[1005220]"
       ]
      },
      {
       "output_type": "stream",
       "stream": "stdout",
       "text": [
        "\n",
        "[1005814]"
       ]
      },
      {
       "output_type": "stream",
       "stream": "stdout",
       "text": [
        "\n",
        "[1005996]"
       ]
      },
      {
       "output_type": "stream",
       "stream": "stdout",
       "text": [
        "\n",
        "[1006056]"
       ]
      },
      {
       "output_type": "stream",
       "stream": "stdout",
       "text": [
        "\n",
        "[1007668]"
       ]
      },
      {
       "output_type": "stream",
       "stream": "stdout",
       "text": [
        "\n",
        "[1008586]"
       ]
      },
      {
       "output_type": "stream",
       "stream": "stdout",
       "text": [
        "\n",
        "[1009276]"
       ]
      },
      {
       "output_type": "stream",
       "stream": "stdout",
       "text": [
        "\n",
        "[1009518]"
       ]
      },
      {
       "output_type": "stream",
       "stream": "stdout",
       "text": [
        "\n",
        "[1010746]"
       ]
      },
      {
       "output_type": "stream",
       "stream": "stdout",
       "text": [
        "\n",
        "[1010812]"
       ]
      },
      {
       "output_type": "stream",
       "stream": "stdout",
       "text": [
        "\n",
        "[1011246]"
       ]
      },
      {
       "output_type": "stream",
       "stream": "stdout",
       "text": [
        "\n",
        "[1011581]"
       ]
      },
      {
       "output_type": "stream",
       "stream": "stdout",
       "text": [
        "\n",
        "[1011605]"
       ]
      },
      {
       "output_type": "stream",
       "stream": "stdout",
       "text": [
        "\n",
        "[1011856]"
       ]
      },
      {
       "output_type": "stream",
       "stream": "stdout",
       "text": [
        "\n",
        "[1012173]"
       ]
      },
      {
       "output_type": "stream",
       "stream": "stdout",
       "text": [
        "\n",
        "[1013852]"
       ]
      },
      {
       "output_type": "stream",
       "stream": "stdout",
       "text": [
        "\n",
        "[1016062]"
       ]
      },
      {
       "output_type": "stream",
       "stream": "stdout",
       "text": [
        "\n",
        "[1016562]"
       ]
      },
      {
       "output_type": "stream",
       "stream": "stdout",
       "text": [
        "\n",
        "[1016968]"
       ]
      },
      {
       "output_type": "stream",
       "stream": "stdout",
       "text": [
        "\n",
        "[1017114]"
       ]
      },
      {
       "output_type": "stream",
       "stream": "stdout",
       "text": [
        "\n",
        "[1017145]"
       ]
      },
      {
       "output_type": "stream",
       "stream": "stdout",
       "text": [
        "\n",
        "[1019243]"
       ]
      },
      {
       "output_type": "stream",
       "stream": "stdout",
       "text": [
        "\n",
        "[1020425]"
       ]
      },
      {
       "output_type": "stream",
       "stream": "stdout",
       "text": [
        "\n",
        "[1022402]"
       ]
      },
      {
       "output_type": "stream",
       "stream": "stdout",
       "text": [
        "\n",
        "[1022848]"
       ]
      },
      {
       "output_type": "stream",
       "stream": "stdout",
       "text": [
        "\n",
        "[1024847]"
       ]
      },
      {
       "output_type": "stream",
       "stream": "stdout",
       "text": [
        "\n",
        "[1029020]"
       ]
      },
      {
       "output_type": "stream",
       "stream": "stdout",
       "text": [
        "\n",
        "[1036083]"
       ]
      },
      {
       "output_type": "stream",
       "stream": "stdout",
       "text": [
        "\n",
        "[1049591]"
       ]
      },
      {
       "output_type": "stream",
       "stream": "stdout",
       "text": [
        "\n",
        "[1053011]"
       ]
      },
      {
       "output_type": "stream",
       "stream": "stdout",
       "text": [
        "\n",
        "[1056350]"
       ]
      },
      {
       "output_type": "stream",
       "stream": "stdout",
       "text": [
        "\n",
        "[1057230]"
       ]
      },
      {
       "output_type": "stream",
       "stream": "stdout",
       "text": [
        "\n",
        "[1057445]"
       ]
      },
      {
       "output_type": "stream",
       "stream": "stdout",
       "text": [
        "\n",
        "[1063975]"
       ]
      },
      {
       "output_type": "stream",
       "stream": "stdout",
       "text": [
        "\n",
        "[1066090]"
       ]
      },
      {
       "output_type": "stream",
       "stream": "stdout",
       "text": [
        "\n",
        "[1066191]"
       ]
      },
      {
       "output_type": "stream",
       "stream": "stdout",
       "text": [
        "\n",
        "[1066764]"
       ]
      },
      {
       "output_type": "stream",
       "stream": "stdout",
       "text": [
        "\n"
       ]
      }
     ],
     "prompt_number": 182
    },
    {
     "cell_type": "code",
     "collapsed": false,
     "input": [
      "y=[]\n",
      "x=[]\n",
      "yerr=[]\n",
      "for p in matchpairs:\n",
      "    y=y+[urat1['vmag'][p[0]]]\n",
      "    x=x+[pt4he['vmag'][p[1]]]\n",
      "    yerr=yerr+[urat1['e_vmag'][p[1]]]"
     ],
     "language": "python",
     "metadata": {},
     "outputs": [],
     "prompt_number": 184
    },
    {
     "cell_type": "code",
     "collapsed": false,
     "input": [
      "line=range(5,14)\n",
      "plt.plot(line,line)\n",
      "plt.errorbar(x,y,yerr=yerr,fmt='.')\n",
      "plt.xlabel('Prosser 1992 V magnitude')\n",
      "plt.ylabel('URAT1 Cross match V magnitude')\n",
      "plt.show()"
     ],
     "language": "python",
     "metadata": {},
     "outputs": [],
     "prompt_number": 195
    },
    {
     "cell_type": "code",
     "collapsed": false,
     "input": [
      "urat1['e_vmag']"
     ],
     "language": "python",
     "metadata": {},
     "outputs": [
      {
       "metadata": {},
       "output_type": "pyout",
       "prompt_number": 187,
       "text": [
        "urat1\n",
        "718-115429      NaN\n",
        "718-115434      NaN\n",
        "718-115441      NaN\n",
        "718-115447      NaN\n",
        "718-115496      NaN\n",
        "718-115184      NaN\n",
        "718-115211    0.044\n",
        "718-115225      NaN\n",
        "718-115230    0.001\n",
        "718-115242      NaN\n",
        "718-115246      NaN\n",
        "718-115314      NaN\n",
        "718-115329      NaN\n",
        "718-115330      NaN\n",
        "718-115349      NaN\n",
        "718-115354    0.001\n",
        "718-115357      NaN\n",
        "718-115385      NaN\n",
        "718-115376      NaN\n",
        "718-115386      NaN\n",
        "718-115396      NaN\n",
        "718-115397      NaN\n",
        "718-115402      NaN\n",
        "718-115417      NaN\n",
        "718-115418      NaN\n",
        "718-115420      NaN\n",
        "718-115422      NaN\n",
        "718-115424      NaN\n",
        "718-115432      NaN\n",
        "718-115463    0.001\n",
        "              ...  \n",
        "678-076328      NaN\n",
        "678-076332      NaN\n",
        "678-076336      NaN\n",
        "678-076338      NaN\n",
        "678-076341      NaN\n",
        "678-076342      NaN\n",
        "678-076343      NaN\n",
        "678-076358      NaN\n",
        "678-076361      NaN\n",
        "678-076362      NaN\n",
        "678-076369      NaN\n",
        "678-076373    0.034\n",
        "678-076376      NaN\n",
        "678-076380    0.025\n",
        "678-076402      NaN\n",
        "678-076382      NaN\n",
        "678-076399      NaN\n",
        "678-076425      NaN\n",
        "678-076427    0.014\n",
        "678-076437      NaN\n",
        "678-076447    0.020\n",
        "678-076283      NaN\n",
        "678-076291    0.035\n",
        "678-076307      NaN\n",
        "678-076326      NaN\n",
        "678-076331      NaN\n",
        "678-076339      NaN\n",
        "678-076350    0.006\n",
        "678-076462      NaN\n",
        "678-076675      NaN\n",
        "Name: e_vmag, dtype: float64"
       ]
      }
     ],
     "prompt_number": 187
    },
    {
     "cell_type": "code",
     "collapsed": false,
     "input": [
      "fpairs=[]\n",
      "for p in matchpairs:\n",
      "    if p[0] in flags:\n",
      "        print str(p)\n",
      "        fpairs=fpairs+[p]"
     ],
     "language": "python",
     "metadata": {},
     "outputs": [
      {
       "output_type": "stream",
       "stream": "stdout",
       "text": [
        "('700-098103', 605)\n",
        "('698-101101', 835)\n",
        "('702-104296', 815)\n",
        "('689-082967', 330)\n",
        "('691-083185', 175)\n",
        "('692-089161', 537)\n",
        "('704-103276', 574)\n"
       ]
      }
     ],
     "prompt_number": 200
    },
    {
     "cell_type": "code",
     "collapsed": false,
     "input": [
      "urat1['b_v']=urat1['bmag']-urat1['vmag']"
     ],
     "language": "python",
     "metadata": {},
     "outputs": [],
     "prompt_number": 216
    },
    {
     "cell_type": "code",
     "collapsed": false,
     "input": [
      "for p in fpairs:\n",
      "    u=p[0]\n",
      "    t=p[1]\n",
      "    ucol=urat1['b_v'][u]\n",
      "    umag=urat1['vmag'][u]\n",
      "    tcol=pt4he['b_v'][t]\n",
      "    tmag=pt4he['vmag'][t]\n",
      "    xmin=min([ucol,tcol])\n",
      "    xmax=max([ucol,tcol])\n",
      "    ymin=min([umag,tmag])\n",
      "    ymax=max([umag,tmag])\n",
      "    if ucol:\n",
      "       print ucol\n",
      "       print tcol\n",
      "       print umag\n",
      "       print tmag\n",
      "       plt.plot()\n",
      "       plt.scatter(ucol,umag,color='c',marker='o')\n",
      "       plt.scatter(tcol,tmag,color='m',marker='o')\n",
      "       plt.ylim([ymin-1,ymax+1])\n",
      "       plt.xlim([xmin-1,xmax+1])\n",
      "       plt.title(str(p))\n",
      "       plt.show()"
     ],
     "language": "python",
     "metadata": {},
     "outputs": [
      {
       "output_type": "stream",
       "stream": "stdout",
       "text": [
        "nan\n",
        "0.481\n",
        "nan\n",
        "1.79\n",
        "nan"
       ]
      },
      {
       "output_type": "stream",
       "stream": "stdout",
       "text": [
        "\n",
        "-0.098\n",
        "nan\n",
        "4.66\n",
        "1.425"
       ]
      },
      {
       "output_type": "stream",
       "stream": "stdout",
       "text": [
        "\n",
        "1.423\n",
        "11.23\n",
        "11.18\n",
        "1.029"
       ]
      },
      {
       "output_type": "stream",
       "stream": "stdout",
       "text": [
        "\n",
        "1.302\n",
        "9.888\n",
        "9.86\n",
        "1.223"
       ]
      },
      {
       "output_type": "stream",
       "stream": "stdout",
       "text": [
        "\n",
        "0.971\n",
        "6.555\n",
        "5.9\n",
        "1.15"
       ]
      },
      {
       "output_type": "stream",
       "stream": "stdout",
       "text": [
        "\n",
        "1.135\n",
        "10.181\n",
        "10.13\n",
        "1.128"
       ]
      },
      {
       "output_type": "stream",
       "stream": "stdout",
       "text": [
        "\n",
        "1.253\n",
        "9.068\n",
        "8.94\n"
       ]
      }
     ],
     "prompt_number": 218
    },
    {
     "cell_type": "code",
     "collapsed": false,
     "input": [],
     "language": "python",
     "metadata": {},
     "outputs": []
    },
    {
     "cell_type": "code",
     "collapsed": false,
     "input": [],
     "language": "python",
     "metadata": {},
     "outputs": []
    },
    {
     "cell_type": "code",
     "collapsed": false,
     "input": [],
     "language": "python",
     "metadata": {},
     "outputs": []
    },
    {
     "cell_type": "raw",
     "metadata": {},
     "source": []
    }
   ],
   "metadata": {}
  }
 ]
}