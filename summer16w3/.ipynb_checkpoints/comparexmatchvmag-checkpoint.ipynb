{
 "metadata": {
  "name": "",
  "signature": "sha256:b25848a7f468f6da90564d9af2e0f6ab4384ebb5b1ba53233ddf45d76bead531"
 },
 "nbformat": 3,
 "nbformat_minor": 0,
 "worksheets": [
  {
   "cells": [
    {
     "cell_type": "code",
     "collapsed": false,
     "input": [
      "import pandas as dp\n",
      "import psycopg2 as p2\n",
      "import matplotlib.pyplot as plt\n",
      "from astropy.coordinates import SkyCoord as sc\n",
      "import matchCatalog as MC\n",
      "mc=MC.matchCatalog"
     ],
     "language": "python",
     "metadata": {},
     "outputs": [],
     "prompt_number": 1
    },
    {
     "cell_type": "code",
     "collapsed": false,
     "input": [
      "reload(MC)"
     ],
     "language": "python",
     "metadata": {},
     "outputs": [
      {
       "metadata": {},
       "output_type": "pyout",
       "prompt_number": 53,
       "text": [
        "<module 'matchCatalog' from '/home/groberts/.local/lib/python2.7/site-packages/customModules/matchCatalog.py'>"
       ]
      }
     ],
     "prompt_number": 53
    },
    {
     "cell_type": "code",
     "collapsed": false,
     "input": [
      "mc=MC.matchCatalog"
     ],
     "language": "python",
     "metadata": {},
     "outputs": [],
     "prompt_number": 54
    },
    {
     "cell_type": "code",
     "collapsed": false,
     "input": [
      "con=p2.connect(\"dbname='stars' user='postgres' host='localhost'\")\n",
      "cur=con.cursor()"
     ],
     "language": "python",
     "metadata": {},
     "outputs": [],
     "prompt_number": 2
    },
    {
     "cell_type": "code",
     "collapsed": false,
     "input": [
      "#cur.execute(\"select raj2000, dej2000, vmag, bmag, urat1 from urat;\")\n",
      "#urat=dp.DataFrame(cur.fetchall(),columns=['ra','de','vmag','bmag','urat1'])\n",
      "#cur.execute(\"select _raj2000, _dej2000, vmag, b_v from prosser1992_table4;\")\n",
      "#pt4=dp.DataFrame(cur.fetchall(),columns=['ra','de','vmag','b_v'])\n",
      "#uratsc=sc(urat['ra'],urat['de'],unit='deg')\n",
      "#pt4sc=sc(pt4['ra'],pt4['de'],unit='deg')\n",
      "#catmatche, dist=mc(pt4sc,uratsc,30,0)\n",
      "#mdf=urat.values[matches]\n",
      "#msc=sc([i[0]for i in mdf],[i[1] for i in mdf],unit='deg')\n",
      "#matches, dist = mc(msc,pt4sc,3.0,0)\n",
      "#print len(matches)\n",
      "#print len(msc)\n",
      "uv=[]\n",
      "pv=[]\n",
      "ubv=[]\n",
      "pbv=[]\n",
      "for i in flags:\n",
      "    tu=sc(urat1['ra'][i],urat1['de'][i],unit='deg')\n",
      "    tm,td=mc(tu,pt4sc,3.0,0)\n",
      "    print tm\n",
      "    if tm!=[] and tm:\n",
      "       j=tm[0]\n",
      "       pv=pv+[pt4['vmag'][j]]\n",
      "       uv=uv+[urat1['vmag'][i]]\n",
      "       pbv=pbv+[pt4['b_v'][j]]\n",
      "       ubv=ubv+[urat1['bmag'][i]-urat1['vmag'][i]]"
     ],
     "language": "python",
     "metadata": {},
     "outputs": [
      {
       "output_type": "stream",
       "stream": "stdout",
       "text": [
        "[15]\n",
        "[32]\n",
        "None"
       ]
      },
      {
       "output_type": "stream",
       "stream": "stdout",
       "text": [
        "\n",
        "[65]\n",
        "[70]"
       ]
      },
      {
       "output_type": "stream",
       "stream": "stdout",
       "text": [
        "\n",
        "[125]\n",
        "[78]"
       ]
      },
      {
       "output_type": "stream",
       "stream": "stdout",
       "text": [
        "\n",
        "[130]\n"
       ]
      }
     ],
     "prompt_number": 81
    },
    {
     "cell_type": "code",
     "collapsed": false,
     "input": [
      "plt.scatter(ubv,pbv)\n",
      "plt.show()"
     ],
     "language": "python",
     "metadata": {},
     "outputs": [],
     "prompt_number": 82
    },
    {
     "cell_type": "code",
     "collapsed": false,
     "input": [
      "len(catmatche)\n",
      "catmatche[0]\n",
      "urat['vmag'][catmatche[0]]\n",
      "tsc=sc(urat['ra'][catmatche[0]],urat['de'][catmatche[0]],unit='deg')\n",
      "tm, td = mc(tsc,pt4sc,3.0,0)\n",
      "print len(tm)\n",
      "print urat['vmag'][catmatche[0]]-pt4['vmag'][tm]"
     ],
     "language": "python",
     "metadata": {},
     "outputs": [
      {
       "output_type": "stream",
       "stream": "stdout",
       "text": [
        "1\n",
        "0    0.057\n",
        "Name: vmag, dtype: float64\n"
       ]
      }
     ],
     "prompt_number": 22
    },
    {
     "cell_type": "code",
     "collapsed": false,
     "input": [
      "urat1['bmag']"
     ],
     "language": "python",
     "metadata": {},
     "outputs": [
      {
       "metadata": {},
       "output_type": "pyout",
       "prompt_number": 74,
       "text": [
        "urat1\n",
        "718-115429       NaN\n",
        "718-115434       NaN\n",
        "718-115441       NaN\n",
        "718-115447       NaN\n",
        "718-115496       NaN\n",
        "718-115184       NaN\n",
        "718-115211    15.259\n",
        "718-115225       NaN\n",
        "718-115230    17.139\n",
        "718-115242       NaN\n",
        "718-115246       NaN\n",
        "718-115314       NaN\n",
        "718-115329       NaN\n",
        "718-115330       NaN\n",
        "718-115349       NaN\n",
        "718-115354    17.187\n",
        "718-115357       NaN\n",
        "718-115385       NaN\n",
        "718-115376       NaN\n",
        "718-115386       NaN\n",
        "718-115396       NaN\n",
        "718-115397       NaN\n",
        "718-115402       NaN\n",
        "718-115417       NaN\n",
        "718-115418       NaN\n",
        "718-115420       NaN\n",
        "718-115422       NaN\n",
        "718-115424       NaN\n",
        "718-115432       NaN\n",
        "718-115463    15.405\n",
        "               ...  \n",
        "708-110589    15.631\n",
        "708-110592       NaN\n",
        "708-110606    16.956\n",
        "708-110611    14.794\n",
        "708-110616       NaN\n",
        "708-110628       NaN\n",
        "708-110629    15.881\n",
        "708-110633       NaN\n",
        "708-110641       NaN\n",
        "708-110643    16.471\n",
        "708-110649       NaN\n",
        "708-110661       NaN\n",
        "708-110667       NaN\n",
        "708-110670       NaN\n",
        "708-110674       NaN\n",
        "708-110686       NaN\n",
        "708-110658       NaN\n",
        "708-110681       NaN\n",
        "708-110693       NaN\n",
        "708-110714       NaN\n",
        "708-110721       NaN\n",
        "708-110722       NaN\n",
        "708-110723       NaN\n",
        "708-110735       NaN\n",
        "708-110550       NaN\n",
        "708-110552       NaN\n",
        "708-110567       NaN\n",
        "708-110580       NaN\n",
        "708-110590       NaN\n",
        "708-110625       NaN\n",
        "Name: bmag, dtype: float64"
       ]
      }
     ],
     "prompt_number": 74
    },
    {
     "cell_type": "code",
     "collapsed": false,
     "input": [
      "print uv\n",
      "print pv"
     ],
     "language": "python",
     "metadata": {},
     "outputs": [
      {
       "output_type": "stream",
       "stream": "stdout",
       "text": [
        "[10.057, 10.146000000000001, 10.678000000000001, 10.67, 11.302, 10.874000000000001, 11.297000000000001, 11.224, 10.429, 8.5359999999999996, 9.6120000000000001, 10.505000000000001, nan, 8.9009999999999998, 7.8970000000000002, 6.5549999999999997, 10.782999999999999, 7.2389999999999999, 9.1140000000000008, 8.8859999999999992, 10.013, 10.763, 10.156000000000001, 10.765000000000001, 10.016999999999999, 8.0449999999999999, 10.784000000000001, 11.202, 10.026999999999999, nan, 12.16, 9.8879999999999999, nan, 10.382, 9.9719999999999995, 11.519, 10.584, 11.201000000000001, 9.6790000000000003, 9.9610000000000003, 11.504, nan, 7.9290000000000003, 10.321, 10.518000000000001, nan, 11.167, 9.218, 7.6769999999999996, 9.8559999999999999, 11.220000000000001, 10.388, 11.728, 11.542999999999999, 10.645, 9.1210000000000004, 9.5540000000000003, 11.114000000000001, 9.1509999999999998, 8.3119999999999994, 11.722, 9.1679999999999993, 10.180999999999999, 11.701000000000001, 11.186, 8.6519999999999992, nan, 9.0679999999999996, 7.9189999999999996, 10.042999999999999, 7.2400000000000002, 10.071999999999999, 10.348000000000001, 11.345000000000001, nan, 9.0950000000000006, 9.8399999999999999, 7.5519999999999996, 9.0129999999999999, 9.2420000000000009, 10.105, 8.8290000000000006, 7.4880000000000004, 8.4659999999999993, 10.048, 10.907, 9.6809999999999992, 7.7389999999999999, 11.23, 7.407, 10.058, nan, 10.035, 10.551, 7.7190000000000003, 10.435, 8.8119999999999994, 6.4359999999999999, nan, 11.061, 8.5679999999999996, 8.7509999999999994, 11.426, 9.5939999999999994, 6.9429999999999996, nan, 11.69, 6.343, 9.8670000000000009, 10.867000000000001, 9.6940000000000008, nan, 10.973000000000001, 10.271000000000001, 10.122, 10.363, 8.9939999999999998, nan, 11.266, nan, 11.808999999999999, 10.632999999999999, 11.769]\n",
        "[10.0, 10.09, 10.640000000000001, 10.619999999999999, 11.15, 10.84, 11.06, 11.09, 10.42, 8.5999999999999996, 9.7100000000000009, 10.470000000000001, 6.8799999999999999, 8.9700000000000006, 7.9400000000000004, 5.9000000000000004, 10.76, 7.1500000000000004, 9.1400000000000006, 8.9299999999999997, 9.9499999999999993, 10.81, 10.109999999999999, 10.41, 9.9299999999999997, 8.0899999999999999, 10.710000000000001, 11.119999999999999, 9.9600000000000009, 9.25, 12.109999999999999, 9.8599999999999994, 7.1900000000000004, 10.33, 9.9299999999999997, 11.449999999999999, 10.51, 11.01, 9.6799999999999997, 9.9000000000000004, 11.550000000000001, 5.1500000000000004, 7.9299999999999997, 10.279999999999999, 10.550000000000001, 5.04, 11.109999999999999, 9.2300000000000004, 7.6399999999999997, 9.8599999999999994, 11.119999999999999, 10.390000000000001, 11.699999999999999, 11.4, 10.57, 9.1600000000000001, 9.5600000000000005, 11.07, 9.1400000000000006, 8.3499999999999996, 11.67, 9.1300000000000008, 10.130000000000001, 11.57, 11.17, 8.6799999999999997, 5.2599999999999998, 8.9399999999999995, 7.8499999999999996, 9.7899999999999991, 6.9900000000000002, 9.9900000000000002, 10.35, 11.4, 1.79, 9.2200000000000006, 9.8599999999999994, 7.6299999999999999, 9.0500000000000007, 9.25, 10.06, 8.9499999999999993, 7.4900000000000002, 8.4800000000000004, 10.02, 10.92, 9.6600000000000001, 7.7199999999999998, 11.18, 7.3600000000000003, 10.029999999999999, 4.6600000000000001, 9.9900000000000002, 10.48, 7.6600000000000001, 10.380000000000001, 8.7899999999999991, 5.8200000000000003, 8.7799999999999994, 11.1, 8.5899999999999999, 8.75, 11.41, 9.6199999999999992, 6.75, 9.1999999999999993, 11.67, 5.46, 9.8000000000000007, 10.84, 9.6099999999999994, 9.4800000000000004, 11.029999999999999, 10.199999999999999, 10.06, 10.32, 8.8800000000000008, 7.4500000000000002, 11.17, 9.7699999999999996, 11.81, 10.640000000000001, 11.74]\n"
       ]
      }
     ],
     "prompt_number": 60
    },
    {
     "cell_type": "code",
     "collapsed": false,
     "input": [
      "[pv[i] for i in range(len(pv))]"
     ],
     "language": "python",
     "metadata": {},
     "outputs": [
      {
       "metadata": {},
       "output_type": "pyout",
       "prompt_number": 44,
       "text": [
        "[0    10.0\n",
        " Name: vmag, dtype: float64, 1    10.09\n",
        " Name: vmag, dtype: float64, 2    10.64\n",
        " Name: vmag, dtype: float64, 3    10.62\n",
        " Name: vmag, dtype: float64, 4    11.15\n",
        " Name: vmag, dtype: float64, 5    10.84\n",
        " Name: vmag, dtype: float64, 6    11.06\n",
        " Name: vmag, dtype: float64, 7    11.09\n",
        " Name: vmag, dtype: float64, 8    10.42\n",
        " Name: vmag, dtype: float64, 9    8.6\n",
        " Name: vmag, dtype: float64, 10    9.71\n",
        " Name: vmag, dtype: float64, 11    10.47\n",
        " Name: vmag, dtype: float64, 12    6.88\n",
        " Name: vmag, dtype: float64, 13    8.97\n",
        " Name: vmag, dtype: float64, 14    7.94\n",
        " Name: vmag, dtype: float64, 15    5.9\n",
        " Name: vmag, dtype: float64, 16    10.76\n",
        " Name: vmag, dtype: float64, 18    7.15\n",
        " Name: vmag, dtype: float64, 19    9.14\n",
        " Name: vmag, dtype: float64, 20    8.93\n",
        " Name: vmag, dtype: float64, 21    9.95\n",
        " Name: vmag, dtype: float64, 22    10.81\n",
        " Name: vmag, dtype: float64, 23    10.11\n",
        " Name: vmag, dtype: float64, 24    10.41\n",
        " Name: vmag, dtype: float64, 25    9.93\n",
        " Name: vmag, dtype: float64, 26    8.09\n",
        " Name: vmag, dtype: float64, 27    10.71\n",
        " Name: vmag, dtype: float64, 28    11.12\n",
        " Name: vmag, dtype: float64, 29    9.96\n",
        " Name: vmag, dtype: float64, 30    9.25\n",
        " Name: vmag, dtype: float64, 31    12.11\n",
        " Name: vmag, dtype: float64, 32    9.86\n",
        " Name: vmag, dtype: float64, 33    7.19\n",
        " Name: vmag, dtype: float64, 34    10.33\n",
        " Name: vmag, dtype: float64, 35    9.93\n",
        " Name: vmag, dtype: float64, 36    11.45\n",
        " Name: vmag, dtype: float64, 37    10.51\n",
        " Name: vmag, dtype: float64, 38    11.01\n",
        " Name: vmag, dtype: float64, 39    9.68\n",
        " Name: vmag, dtype: float64, 40    9.9\n",
        " Name: vmag, dtype: float64, 41    11.55\n",
        " Name: vmag, dtype: float64, 42    5.15\n",
        " Name: vmag, dtype: float64, 43    7.93\n",
        " Name: vmag, dtype: float64, 44    10.28\n",
        " Name: vmag, dtype: float64, 45    10.55\n",
        " Name: vmag, dtype: float64, 46    5.04\n",
        " Name: vmag, dtype: float64, 47    11.11\n",
        " Name: vmag, dtype: float64, 49    9.23\n",
        " Name: vmag, dtype: float64, 50    7.64\n",
        " Name: vmag, dtype: float64, 51    9.86\n",
        " Name: vmag, dtype: float64, 53    11.12\n",
        " Name: vmag, dtype: float64, 54    10.39\n",
        " Name: vmag, dtype: float64, 55    11.7\n",
        " Name: vmag, dtype: float64, 56    11.4\n",
        " Name: vmag, dtype: float64, 57    10.57\n",
        " Name: vmag, dtype: float64, 58    9.16\n",
        " Name: vmag, dtype: float64, 59    9.56\n",
        " Name: vmag, dtype: float64, 60    11.07\n",
        " Name: vmag, dtype: float64, 61    9.14\n",
        " Name: vmag, dtype: float64, 62    8.35\n",
        " Name: vmag, dtype: float64, 63    11.67\n",
        " Name: vmag, dtype: float64, 64    9.13\n",
        " Name: vmag, dtype: float64, 65    10.13\n",
        " Name: vmag, dtype: float64, 66    11.57\n",
        " Name: vmag, dtype: float64, 67    11.17\n",
        " Name: vmag, dtype: float64, 68    8.68\n",
        " Name: vmag, dtype: float64, 69    5.26\n",
        " Name: vmag, dtype: float64, 70    8.94\n",
        " Name: vmag, dtype: float64, 71    7.85\n",
        " Name: vmag, dtype: float64, 72    9.79\n",
        " Name: vmag, dtype: float64, 73    6.99\n",
        " Name: vmag, dtype: float64, 74    9.99\n",
        " Name: vmag, dtype: float64, 75    10.35\n",
        " Name: vmag, dtype: float64, 77    11.4\n",
        " Name: vmag, dtype: float64, 78    1.79\n",
        " Name: vmag, dtype: float64, 81    9.22\n",
        " Name: vmag, dtype: float64, 83    9.86\n",
        " Name: vmag, dtype: float64, 85    7.63\n",
        " Name: vmag, dtype: float64, 87    9.05\n",
        " Name: vmag, dtype: float64, 92    9.25\n",
        " Name: vmag, dtype: float64, 93    10.06\n",
        " Name: vmag, dtype: float64, 97    8.95\n",
        " Name: vmag, dtype: float64, 100    7.49\n",
        " Name: vmag, dtype: float64, 101    8.48\n",
        " Name: vmag, dtype: float64, 104    10.02\n",
        " Name: vmag, dtype: float64, 105    10.92\n",
        " Name: vmag, dtype: float64, 108    9.66\n",
        " Name: vmag, dtype: float64, 110    7.72\n",
        " Name: vmag, dtype: float64, 125    11.18\n",
        " Name: vmag, dtype: float64, 128    7.36\n",
        " Name: vmag, dtype: float64, 129    10.03\n",
        " Name: vmag, dtype: float64, 130    4.66\n",
        " Name: vmag, dtype: float64, 132    9.99\n",
        " Name: vmag, dtype: float64, 133    10.48\n",
        " Name: vmag, dtype: float64, 139    7.66\n",
        " Name: vmag, dtype: float64, 140    10.38\n",
        " Name: vmag, dtype: float64, 141    8.79\n",
        " Name: vmag, dtype: float64, 142    5.82\n",
        " Name: vmag, dtype: float64, 143    8.78\n",
        " Name: vmag, dtype: float64, 144    11.1\n",
        " Name: vmag, dtype: float64, 145    8.59\n",
        " Name: vmag, dtype: float64, 146    8.75\n",
        " Name: vmag, dtype: float64, 148    11.41\n",
        " Name: vmag, dtype: float64, 149    9.62\n",
        " Name: vmag, dtype: float64, 150    6.75\n",
        " Name: vmag, dtype: float64, 151    9.2\n",
        " Name: vmag, dtype: float64, 155    11.67\n",
        " Name: vmag, dtype: float64, 156    5.46\n",
        " Name: vmag, dtype: float64, 157    9.8\n",
        " Name: vmag, dtype: float64, 158    10.84\n",
        " Name: vmag, dtype: float64, 159    9.61\n",
        " Name: vmag, dtype: float64, 161    9.48\n",
        " Name: vmag, dtype: float64, 166    11.03\n",
        " Name: vmag, dtype: float64, 172    10.2\n",
        " Name: vmag, dtype: float64, 174    10.06\n",
        " Name: vmag, dtype: float64, 175    10.32\n",
        " Name: vmag, dtype: float64, 177    8.88\n",
        " Name: vmag, dtype: float64, 178    7.45\n",
        " Name: vmag, dtype: float64, 181    11.17\n",
        " Name: vmag, dtype: float64, 183    9.77\n",
        " Name: vmag, dtype: float64, 184    11.81\n",
        " Name: vmag, dtype: float64, 185    10.64\n",
        " Name: vmag, dtype: float64, 186    11.74\n",
        " Name: vmag, dtype: float64]"
       ]
      }
     ],
     "prompt_number": 44
    },
    {
     "cell_type": "code",
     "collapsed": false,
     "input": [
      "plt.scatter(uv, pv)\n",
      "plt.show()"
     ],
     "language": "python",
     "metadata": {},
     "outputs": [],
     "prompt_number": 61
    },
    {
     "cell_type": "code",
     "collapsed": false,
     "input": [
      "test=[10]\n",
      "test[0]"
     ],
     "language": "python",
     "metadata": {},
     "outputs": [
      {
       "metadata": {},
       "output_type": "pyout",
       "prompt_number": 57,
       "text": [
        "10"
       ]
      }
     ],
     "prompt_number": 57
    },
    {
     "cell_type": "code",
     "collapsed": false,
     "input": [
      "urat1=urat.set_index('urat1',inplace=False,drop=False)"
     ],
     "language": "python",
     "metadata": {},
     "outputs": [],
     "prompt_number": 73
    },
    {
     "cell_type": "code",
     "collapsed": false,
     "input": [
      "flags=['691-083185','689-082967','689-085392','692-089161','704-103276','702-104296','700-098103','698-101101']"
     ],
     "language": "python",
     "metadata": {},
     "outputs": [],
     "prompt_number": 80
    },
    {
     "cell_type": "raw",
     "metadata": {},
     "source": []
    }
   ],
   "metadata": {}
  }
 ]
}